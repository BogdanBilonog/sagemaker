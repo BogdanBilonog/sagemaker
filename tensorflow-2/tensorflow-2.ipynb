{
 "cells": [
  {
   "cell_type": "code",
   "execution_count": null,
   "metadata": {},
   "outputs": [],
   "source": [
    "!pip install --upgrade pip\n",
    "!pip install --ignore-installed --upgrade tensorflow==2.0.0-rc1"
   ]
  },
  {
   "cell_type": "code",
   "execution_count": null,
   "metadata": {},
   "outputs": [],
   "source": [
    "from __future__ import absolute_import, division, print_function, unicode_literals\n",
    "\n",
    "import tensorflow as tf\n",
    "\n",
    "import os\n",
    "import time\n",
    "import tarfile\n",
    "import numpy as np\n",
    "\n",
    "import sagemaker\n",
    "from sagemaker.estimator import Estimator\n",
    "from sagemaker import get_execution_role\n",
    "from sagemaker.predictor import json_serializer, json_deserializer"
   ]
  },
  {
   "cell_type": "markdown",
   "metadata": {},
   "source": [
    "# Data"
   ]
  },
  {
   "cell_type": "code",
   "execution_count": null,
   "metadata": {},
   "outputs": [],
   "source": [
    "mnist = tf.keras.datasets.mnist\n",
    "\n",
    "(x_train, y_train), (x_test, y_test) = mnist.load_data()\n",
    "x_train, x_test = x_train / 255.0, x_test / 255.0"
   ]
  },
  {
   "cell_type": "code",
   "execution_count": null,
   "metadata": {},
   "outputs": [],
   "source": [
    "os.makedirs('data/train')\n",
    "os.makedirs('data/test')\n",
    "\n",
    "np.save('data/train/x.npy', x_train)\n",
    "np.save('data/train/y.npy', y_train)\n",
    "np.save('data/test/x.npy', x_test)\n",
    "np.save('data/test/y.npy', y_test)"
   ]
  },
  {
   "cell_type": "markdown",
   "metadata": {},
   "source": [
    "# Local"
   ]
  },
  {
   "cell_type": "code",
   "execution_count": null,
   "metadata": {},
   "outputs": [],
   "source": [
    "%%sh\n",
    "\n",
    "cd tensorflow-2-container/\n",
    "\n",
    "chmod +x code/train\n",
    "chmod +x code/serve\n",
    "\n",
    "docker build  -t tensorflow-2 ."
   ]
  },
  {
   "cell_type": "code",
   "execution_count": null,
   "metadata": {},
   "outputs": [],
   "source": [
    "job_name = ('tensorflow-2-' + time.strftime(\"%Y-%m-%d-%H-%M-%S\")).replace('_', '-')\n",
    "\n",
    "estimator = Estimator(image_name='tensorflow-2',\n",
    "                      train_instance_type='local',\n",
    "                      train_instance_count=1,\n",
    "                      hyperparameters={'epochs': 1},\n",
    "                      output_path='file:///home/ec2-user/SageMaker/sagemaker/tensorflow-2/output',\n",
    "                      role=get_execution_role(),\n",
    "                      base_job_name=job_name)\n",
    "\n",
    "estimator.fit({'train': 'file:///home/ec2-user/SageMaker/sagemaker/tensorflow-2/data/train/', \n",
    "               'test': 'file:///home/ec2-user/SageMaker/sagemaker/tensorflow-2/data/test/'}, \n",
    "              job_name=job_name)"
   ]
  },
  {
   "cell_type": "code",
   "execution_count": null,
   "metadata": {},
   "outputs": [],
   "source": [
    "predictor = estimator.deploy(1, 'local')"
   ]
  },
  {
   "cell_type": "code",
   "execution_count": null,
   "metadata": {},
   "outputs": [],
   "source": [
    "data = {'instances': x_test[:2].tolist()}\n",
    "\n",
    "predictor.accept = 'application/json'\n",
    "predictor.content_type = 'application/json'\n",
    "\n",
    "predictor.serializer = json_serializer\n",
    "predictor.deserializer = json_deserializer\n",
    "\n",
    "predictor.predict(data)"
   ]
  },
  {
   "cell_type": "code",
   "execution_count": null,
   "metadata": {},
   "outputs": [],
   "source": [
    "predictor.delete_endpoint()"
   ]
  },
  {
   "cell_type": "code",
   "execution_count": null,
   "metadata": {},
   "outputs": [],
   "source": [
    "with tarfile.open('output/model.tar.gz', \"r:gz\") as tar:\n",
    "    tar.extractall('output/model/')"
   ]
  },
  {
   "cell_type": "code",
   "execution_count": null,
   "metadata": {},
   "outputs": [],
   "source": [
    "with tarfile.open('output/output.tar.gz', \"r:gz\") as tar:\n",
    "    tar.extractall('output/output/')"
   ]
  },
  {
   "cell_type": "markdown",
   "metadata": {},
   "source": [
    "# Remote"
   ]
  },
  {
   "cell_type": "code",
   "execution_count": null,
   "metadata": {},
   "outputs": [],
   "source": [
    "bucket = 'gl-ml-training-sagemaker'\n",
    "prefix = 'sagemaker/tensorflow-2'"
   ]
  },
  {
   "cell_type": "code",
   "execution_count": null,
   "metadata": {},
   "outputs": [],
   "source": [
    "# Upload data\n",
    "sagemaker.Session().upload_data(path='data/train', \n",
    "                                key_prefix=os.path.join(prefix, 'data', 'train'), \n",
    "                                bucket=bucket)\n",
    "sagemaker.Session().upload_data(path='data/test', \n",
    "                                key_prefix=os.path.join(prefix, 'data', 'test'), \n",
    "                                bucket=bucket)"
   ]
  },
  {
   "cell_type": "code",
   "execution_count": null,
   "metadata": {},
   "outputs": [],
   "source": [
    "# Build and upload container\n",
    "%%sh\n",
    "\n",
    "cd tensorflow-2-container/\n",
    "\n",
    "image=tensorflow-2\n",
    "\n",
    "chmod +x code/train\n",
    "chmod +x code/serve\n",
    "\n",
    "# Get the account number associated with the current IAM credentials\n",
    "account=$(aws sts get-caller-identity --query Account --output text)\n",
    "\n",
    "if [ $? -ne 0 ]\n",
    "then\n",
    "    exit 255\n",
    "fi\n",
    "\n",
    "\n",
    "# Get the region defined in the current configuration (default to us-west-2 if none defined)\n",
    "region=$(aws configure get region)\n",
    "region=${region:-us-west-2}\n",
    "\n",
    "\n",
    "fullname=\"${account}.dkr.ecr.${region}.amazonaws.com/${image}:latest\"\n",
    "\n",
    "# If the repository doesn't exist in ECR, create it.\n",
    "\n",
    "aws ecr describe-repositories --repository-names \"${image}\" > /dev/null 2>&1\n",
    "\n",
    "if [ $? -ne 0 ]\n",
    "then\n",
    "    aws ecr create-repository --repository-name \"${image}\" > /dev/null\n",
    "fi\n",
    "\n",
    "# Get the login command from ECR and execute it directly\n",
    "$(aws ecr get-login --region ${region} --no-include-email)\n",
    "\n",
    "# Build the docker image locally with the image name and then push it to ECR\n",
    "# with the full name.\n",
    "\n",
    "docker build  -t ${image} .\n",
    "docker tag ${image} ${fullname}\n",
    "\n",
    "docker push ${fullname}"
   ]
  },
  {
   "cell_type": "code",
   "execution_count": null,
   "metadata": {},
   "outputs": [],
   "source": [
    "job_name = ('tensorflow-2-' + time.strftime(\"%Y-%m-%d-%H-%M-%S\")).replace('_', '-')\n",
    "\n",
    "estimator = Estimator(image_name='763331026866.dkr.ecr.us-east-1.amazonaws.com/tensorflow-2:latest',\n",
    "                      train_instance_type='ml.m4.xlarge',\n",
    "                      train_instance_count=1,\n",
    "                      hyperparameters={'epochs': 1},\n",
    "                      output_path='s3://{}/saegmaker/tensorflow-2/output'.format(bucket),\n",
    "                      role=get_execution_role(),\n",
    "                      base_job_name=job_name)\n",
    "\n",
    "estimator.fit({'train': sagemaker.s3_input(s3_data='s3://{}/{}/data/train/'.format(bucket, prefix), content_type='csv'), \n",
    "               'test': sagemaker.s3_input(s3_data='s3://{}/{}/data/test/'.format(bucket, prefix), content_type='csv')}, \n",
    "              job_name=job_name)"
   ]
  },
  {
   "cell_type": "code",
   "execution_count": null,
   "metadata": {},
   "outputs": [],
   "source": [
    "predictor = estimator.deploy(1, 'ml.m4.xlarge')"
   ]
  },
  {
   "cell_type": "code",
   "execution_count": null,
   "metadata": {},
   "outputs": [],
   "source": [
    "data = {'instances': x_test.tolist()}\n",
    "\n",
    "predictor.accept = 'application/json'\n",
    "predictor.content_type = 'application/json'\n",
    "\n",
    "predictor.serializer = json_serializer\n",
    "predictor.deserializer = json_deserializer\n",
    "\n",
    "predictor.predict(data)"
   ]
  },
  {
   "cell_type": "code",
   "execution_count": null,
   "metadata": {},
   "outputs": [],
   "source": []
  }
 ],
 "metadata": {
  "kernelspec": {
   "display_name": "conda_tensorflow_p36",
   "language": "python",
   "name": "conda_tensorflow_p36"
  },
  "language_info": {
   "codemirror_mode": {
    "name": "ipython",
    "version": 3
   },
   "file_extension": ".py",
   "mimetype": "text/x-python",
   "name": "python",
   "nbconvert_exporter": "python",
   "pygments_lexer": "ipython3",
   "version": "3.6.5"
  }
 },
 "nbformat": 4,
 "nbformat_minor": 4
}
